{
 "cells": [
  {
   "cell_type": "code",
   "execution_count": 1,
   "metadata": {},
   "outputs": [],
   "source": [
    "import numpy as np"
   ]
  },
  {
   "cell_type": "code",
   "execution_count": 2,
   "metadata": {},
   "outputs": [
    {
     "data": {
      "text/plain": [
       "array([1, 2, 3, 4, 5])"
      ]
     },
     "execution_count": 2,
     "metadata": {},
     "output_type": "execute_result"
    }
   ],
   "source": [
    "np.array([1,2,3,4,5])"
   ]
  },
  {
   "cell_type": "code",
   "execution_count": 3,
   "metadata": {},
   "outputs": [
    {
     "data": {
      "text/plain": [
       "6"
      ]
     },
     "execution_count": 3,
     "metadata": {},
     "output_type": "execute_result"
    }
   ],
   "source": [
    "array=np.array([1,2,3,4,5,6])\n",
    "len(array)"
   ]
  },
  {
   "cell_type": "code",
   "execution_count": 4,
   "metadata": {},
   "outputs": [
    {
     "data": {
      "text/plain": [
       "array([[1, 2, 3],\n",
       "       [4, 5, 6]])"
      ]
     },
     "execution_count": 4,
     "metadata": {},
     "output_type": "execute_result"
    }
   ],
   "source": [
    "array=array.reshape(2,3)\n",
    "array"
   ]
  },
  {
   "cell_type": "code",
   "execution_count": 5,
   "metadata": {},
   "outputs": [
    {
     "data": {
      "text/plain": [
       "(2, 3)"
      ]
     },
     "execution_count": 5,
     "metadata": {},
     "output_type": "execute_result"
    }
   ],
   "source": [
    "array.shape"
   ]
  },
  {
   "cell_type": "code",
   "execution_count": 6,
   "metadata": {},
   "outputs": [
    {
     "data": {
      "text/plain": [
       "(array([2, 3, 4, 5, 6]), array([3, 5, 7]))"
      ]
     },
     "execution_count": 6,
     "metadata": {},
     "output_type": "execute_result"
    }
   ],
   "source": [
    "#start,end,gap\n",
    "np.arange(2,7),np.arange(3,9,2)"
   ]
  },
  {
   "cell_type": "code",
   "execution_count": 7,
   "metadata": {},
   "outputs": [
    {
     "data": {
      "text/plain": [
       "array([ 1,  2,  3,  4,  5,  6,  7,  8,  9, 10, 11, 12, 13, 14, 15, 16, 17,\n",
       "       18, 19])"
      ]
     },
     "execution_count": 7,
     "metadata": {},
     "output_type": "execute_result"
    }
   ],
   "source": [
    "array=np.arange(1,20,1)\n",
    "array#.reshape(4,5)"
   ]
  },
  {
   "cell_type": "code",
   "execution_count": 8,
   "metadata": {},
   "outputs": [
    {
     "data": {
      "text/plain": [
       "array([[0., 0., 0.],\n",
       "       [0., 0., 0.]])"
      ]
     },
     "execution_count": 8,
     "metadata": {},
     "output_type": "execute_result"
    }
   ],
   "source": [
    "np.zeros((2,3))"
   ]
  },
  {
   "cell_type": "code",
   "execution_count": 9,
   "metadata": {},
   "outputs": [
    {
     "data": {
      "text/plain": [
       "array([[1., 1., 1.],\n",
       "       [1., 1., 1.]])"
      ]
     },
     "execution_count": 9,
     "metadata": {},
     "output_type": "execute_result"
    }
   ],
   "source": [
    "np.ones((2,3))"
   ]
  },
  {
   "cell_type": "code",
   "execution_count": 10,
   "metadata": {},
   "outputs": [
    {
     "data": {
      "text/plain": [
       "array([[4, 4, 4, 4, 4],\n",
       "       [4, 4, 4, 4, 4]])"
      ]
     },
     "execution_count": 10,
     "metadata": {},
     "output_type": "execute_result"
    }
   ],
   "source": [
    "np.tile(4,(2,5))"
   ]
  },
  {
   "cell_type": "code",
   "execution_count": 11,
   "metadata": {},
   "outputs": [
    {
     "data": {
      "text/plain": [
       "array([3, 3, 3, 3])"
      ]
     },
     "execution_count": 11,
     "metadata": {},
     "output_type": "execute_result"
    }
   ],
   "source": [
    "np.repeat(3,4)"
   ]
  },
  {
   "cell_type": "code",
   "execution_count": 12,
   "metadata": {},
   "outputs": [],
   "source": [
    "#set random variable\n",
    "np.random.seed(3)"
   ]
  },
  {
   "cell_type": "code",
   "execution_count": 13,
   "metadata": {},
   "outputs": [
    {
     "data": {
      "text/plain": [
       "array([[4, 2, 3],\n",
       "       [2, 2, 2]])"
      ]
     },
     "execution_count": 13,
     "metadata": {},
     "output_type": "execute_result"
    }
   ],
   "source": [
    "#start,end,shape\n",
    "np.random.randint(2,5,(2,3))"
   ]
  },
  {
   "cell_type": "code",
   "execution_count": 14,
   "metadata": {},
   "outputs": [
    {
     "data": {
      "text/plain": [
       "array([[5, 3, 9],\n",
       "       [9, 5, 7]])"
      ]
     },
     "execution_count": 14,
     "metadata": {},
     "output_type": "execute_result"
    }
   ],
   "source": [
    "#limit from zero,shape\n",
    "np.random.choice(10,(2,3))"
   ]
  },
  {
   "cell_type": "markdown",
   "metadata": {},
   "source": [
    "### Float numbers"
   ]
  },
  {
   "cell_type": "code",
   "execution_count": 15,
   "metadata": {},
   "outputs": [
    {
     "data": {
      "text/plain": [
       "array([[0.0935515 , 0.69482365, 0.14537014],\n",
       "       [0.4531723 , 0.21557701, 0.35390507]])"
      ]
     },
     "execution_count": 15,
     "metadata": {},
     "output_type": "execute_result"
    }
   ],
   "source": [
    "#0 to 1 values shape random\n",
    "np.random.rand(2,3)"
   ]
  },
  {
   "cell_type": "code",
   "execution_count": 16,
   "metadata": {},
   "outputs": [
    {
     "data": {
      "text/plain": [
       "array([[3.9705437 , 5.65320578, 5.06330551, 5.89459307],\n",
       "       [3.60944257, 4.2110878 , 3.22544252, 4.34647988]])"
      ]
     },
     "execution_count": 16,
     "metadata": {},
     "output_type": "execute_result"
    }
   ],
   "source": [
    "#start,end,array shape\n",
    "np.random.uniform(2,6,(2,4))"
   ]
  },
  {
   "cell_type": "code",
   "execution_count": 17,
   "metadata": {},
   "outputs": [
    {
     "data": {
      "text/plain": [
       "array([2.        , 2.44444444, 2.88888889, 3.33333333, 3.77777778,\n",
       "       4.22222222, 4.66666667, 5.11111111, 5.55555556, 6.        ])"
      ]
     },
     "execution_count": 17,
     "metadata": {},
     "output_type": "execute_result"
    }
   ],
   "source": [
    "#start,end,nomber of values\n",
    "np.linspace(2,6,10)"
   ]
  },
  {
   "cell_type": "code",
   "execution_count": 18,
   "metadata": {},
   "outputs": [
    {
     "data": {
      "text/plain": [
       "array([1.00000000e+02, 2.78255940e+02, 7.74263683e+02, 2.15443469e+03,\n",
       "       5.99484250e+03, 1.66810054e+04, 4.64158883e+04, 1.29154967e+05,\n",
       "       3.59381366e+05, 1.00000000e+06])"
      ]
     },
     "execution_count": 18,
     "metadata": {},
     "output_type": "execute_result"
    }
   ],
   "source": [
    "np.logspace(2,6,10)"
   ]
  },
  {
   "cell_type": "markdown",
   "metadata": {},
   "source": [
    "### Slicing"
   ]
  },
  {
   "cell_type": "code",
   "execution_count": 19,
   "metadata": {},
   "outputs": [
    {
     "data": {
      "text/plain": [
       "array([[ 1,  2,  3,  4],\n",
       "       [ 5,  6,  7,  8],\n",
       "       [ 9, 10, 11, 12],\n",
       "       [13, 14, 15, 16],\n",
       "       [17, 18, 19, 20]])"
      ]
     },
     "execution_count": 19,
     "metadata": {},
     "output_type": "execute_result"
    }
   ],
   "source": [
    "array=np.arange(1,21,1)\n",
    "array=array.reshape(5,4)\n",
    "array"
   ]
  },
  {
   "cell_type": "code",
   "execution_count": 20,
   "metadata": {},
   "outputs": [
    {
     "data": {
      "text/plain": [
       "array([[ 9, 10, 11, 12]])"
      ]
     },
     "execution_count": 20,
     "metadata": {},
     "output_type": "execute_result"
    }
   ],
   "source": [
    "#array[row_slicing]\n",
    "array[2:3]"
   ]
  },
  {
   "cell_type": "code",
   "execution_count": 21,
   "metadata": {},
   "outputs": [
    {
     "data": {
      "text/plain": [
       "array([[ 7],\n",
       "       [11]])"
      ]
     },
     "execution_count": 21,
     "metadata": {},
     "output_type": "execute_result"
    }
   ],
   "source": [
    "#array[row_slicing,column_slicing]\n",
    "array[1:3,2:3]"
   ]
  },
  {
   "cell_type": "code",
   "execution_count": 22,
   "metadata": {},
   "outputs": [
    {
     "data": {
      "text/plain": [
       "12"
      ]
     },
     "execution_count": 22,
     "metadata": {},
     "output_type": "execute_result"
    }
   ],
   "source": [
    "#Position of an element\n",
    "#array[row][column]\n",
    "array[2][3]"
   ]
  },
  {
   "cell_type": "code",
   "execution_count": 23,
   "metadata": {},
   "outputs": [
    {
     "data": {
      "text/plain": [
       "array([[ 5,  6,  7,  8],\n",
       "       [13, 14, 15, 16]])"
      ]
     },
     "execution_count": 23,
     "metadata": {},
     "output_type": "execute_result"
    }
   ],
   "source": [
    "#desired rows 1, and 3 and all column\n",
    "array[[1,3],:]"
   ]
  },
  {
   "cell_type": "code",
   "execution_count": 24,
   "metadata": {},
   "outputs": [
    {
     "data": {
      "text/plain": [
       "array([[ 2,  3],\n",
       "       [ 6,  7],\n",
       "       [10, 11],\n",
       "       [14, 15],\n",
       "       [18, 19]])"
      ]
     },
     "execution_count": 24,
     "metadata": {},
     "output_type": "execute_result"
    }
   ],
   "source": [
    "#desired columns 1 and 2 and all rows\n",
    "array[:,[1,2]]"
   ]
  },
  {
   "cell_type": "code",
   "execution_count": 25,
   "metadata": {},
   "outputs": [
    {
     "data": {
      "text/plain": [
       "array([ 1,  6, 11, 16])"
      ]
     },
     "execution_count": 25,
     "metadata": {},
     "output_type": "execute_result"
    }
   ],
   "source": [
    "#fetch the diagonal elements of an array\n",
    "np.diag(array)"
   ]
  },
  {
   "cell_type": "code",
   "execution_count": 26,
   "metadata": {},
   "outputs": [
    {
     "data": {
      "text/plain": [
       "array([4, 5, 6, 7, 8, 9])"
      ]
     },
     "execution_count": 26,
     "metadata": {},
     "output_type": "execute_result"
    }
   ],
   "source": [
    "array=np.arange(4,10,1)\n",
    "array"
   ]
  },
  {
   "cell_type": "code",
   "execution_count": 27,
   "metadata": {},
   "outputs": [
    {
     "data": {
      "text/plain": [
       "array([9, 8, 7, 6, 5, 4])"
      ]
     },
     "execution_count": 27,
     "metadata": {},
     "output_type": "execute_result"
    }
   ],
   "source": [
    "#reverse an array\n",
    "array[::-1]"
   ]
  },
  {
   "cell_type": "code",
   "execution_count": 28,
   "metadata": {},
   "outputs": [
    {
     "data": {
      "text/plain": [
       "array([4, 6, 8])"
      ]
     },
     "execution_count": 28,
     "metadata": {},
     "output_type": "execute_result"
    }
   ],
   "source": [
    "#fetch odd positions elements in an array\n",
    "array[::2]"
   ]
  },
  {
   "cell_type": "code",
   "execution_count": 29,
   "metadata": {},
   "outputs": [
    {
     "data": {
      "text/plain": [
       "array([5, 7, 9])"
      ]
     },
     "execution_count": 29,
     "metadata": {},
     "output_type": "execute_result"
    }
   ],
   "source": [
    "#fetch even positions elements in an array\n",
    "array[1::2]"
   ]
  },
  {
   "cell_type": "markdown",
   "metadata": {},
   "source": [
    "### Sorting an array"
   ]
  },
  {
   "cell_type": "code",
   "execution_count": 30,
   "metadata": {},
   "outputs": [
    {
     "data": {
      "text/plain": [
       "array([[ 8, 12,  2, 16],\n",
       "       [17,  6, 18, 15],\n",
       "       [ 1,  1, 10, 19],\n",
       "       [ 6,  8,  6, 15],\n",
       "       [ 2, 18,  2, 11]])"
      ]
     },
     "execution_count": 30,
     "metadata": {},
     "output_type": "execute_result"
    }
   ],
   "source": [
    "array=np.random.randint(1,21,20)\n",
    "array=array.reshape(5,4)\n",
    "array"
   ]
  },
  {
   "cell_type": "code",
   "execution_count": 31,
   "metadata": {},
   "outputs": [
    {
     "data": {
      "text/plain": [
       "array([[ 2,  8, 12, 16],\n",
       "       [ 6, 15, 17, 18],\n",
       "       [ 1,  1, 10, 19],\n",
       "       [ 6,  6,  8, 15],\n",
       "       [ 2,  2, 11, 18]])"
      ]
     },
     "execution_count": 31,
     "metadata": {},
     "output_type": "execute_result"
    }
   ],
   "source": [
    "#sort column wise\n",
    "np.sort(array,axis=1)"
   ]
  },
  {
   "cell_type": "code",
   "execution_count": 32,
   "metadata": {},
   "outputs": [
    {
     "data": {
      "text/plain": [
       "array([[ 1,  1,  2, 11],\n",
       "       [ 2,  6,  2, 15],\n",
       "       [ 6,  8,  6, 15],\n",
       "       [ 8, 12, 10, 16],\n",
       "       [17, 18, 18, 19]])"
      ]
     },
     "execution_count": 32,
     "metadata": {},
     "output_type": "execute_result"
    }
   ],
   "source": [
    "#sort row wise\n",
    "np.sort(array,axis=0)"
   ]
  },
  {
   "cell_type": "code",
   "execution_count": 2,
   "metadata": {},
   "outputs": [
    {
     "name": "stdout",
     "output_type": "stream",
     "text": [
      "original array [18 14 18 14  2 14 16 19  5  8]\n",
      "array's chronological order from highest to lowest [4 8 9 1 3 5 6 0 2 7]\n"
     ]
    }
   ],
   "source": [
    "#display  the order of the numbers with their position from highest to lowest\n",
    "array=np.random.randint(1,20,10)\n",
    "print(\"original array\",array)\n",
    "print(\"array's chronological order from highest to lowest\",array.argsort())"
   ]
  },
  {
   "cell_type": "code",
   "execution_count": 34,
   "metadata": {},
   "outputs": [
    {
     "data": {
      "text/plain": [
       "array([12,  5,  4, 17, 17,  1, 17, 19, 19, 12])"
      ]
     },
     "execution_count": 34,
     "metadata": {},
     "output_type": "execute_result"
    }
   ],
   "source": [
    "#to reshape multidimentional array to single dimentional\n",
    "array.ravel()"
   ]
  },
  {
   "cell_type": "code",
   "execution_count": 35,
   "metadata": {},
   "outputs": [
    {
     "data": {
      "text/plain": [
       "array([12,  5,  4, 17, 17,  1, 17, 19, 19, 12])"
      ]
     },
     "execution_count": 35,
     "metadata": {},
     "output_type": "execute_result"
    }
   ],
   "source": [
    "array.flatten()"
   ]
  },
  {
   "cell_type": "code",
   "execution_count": 36,
   "metadata": {},
   "outputs": [
    {
     "data": {
      "text/plain": [
       "7"
      ]
     },
     "execution_count": 36,
     "metadata": {},
     "output_type": "execute_result"
    }
   ],
   "source": [
    "#max element position\n",
    "array.argmax()"
   ]
  },
  {
   "cell_type": "markdown",
   "metadata": {},
   "source": [
    "### Fetch  array in for loop"
   ]
  },
  {
   "cell_type": "code",
   "execution_count": 3,
   "metadata": {},
   "outputs": [
    {
     "data": {
      "text/plain": [
       "array([[ 3, 18,  3, 18],\n",
       "       [ 2, 20, 15, 20],\n",
       "       [20, 15,  2, 10],\n",
       "       [ 6, 15, 19,  9],\n",
       "       [12,  3, 15, 12]])"
      ]
     },
     "execution_count": 3,
     "metadata": {},
     "output_type": "execute_result"
    }
   ],
   "source": [
    "array=np.random.randint(1,21,20)\n",
    "array=array.reshape(5,4)\n",
    "array"
   ]
  },
  {
   "cell_type": "code",
   "execution_count": 38,
   "metadata": {},
   "outputs": [
    {
     "name": "stdout",
     "output_type": "stream",
     "text": [
      "[ 1 14  6 17]\n",
      "[ 2 18 19  3]\n",
      "[ 5  9 13 17]\n",
      "[11 17  5 18]\n",
      "[18  9  8  1]\n"
     ]
    }
   ],
   "source": [
    "for row in array:\n",
    "    print(row)"
   ]
  },
  {
   "cell_type": "code",
   "execution_count": 39,
   "metadata": {},
   "outputs": [
    {
     "name": "stdout",
     "output_type": "stream",
     "text": [
      "[ 1  2  5 11 18]\n",
      "[14 18  9 17  9]\n",
      "[ 6 19 13  5  8]\n",
      "[17  3 17 18  1]\n"
     ]
    }
   ],
   "source": [
    "for column in array.T:\n",
    "    print(column)"
   ]
  },
  {
   "cell_type": "code",
   "execution_count": 40,
   "metadata": {
    "scrolled": false
   },
   "outputs": [
    {
     "name": "stdout",
     "output_type": "stream",
     "text": [
      "1\n",
      "14\n",
      "6\n",
      "17\n",
      "2\n",
      "18\n",
      "19\n",
      "3\n",
      "5\n",
      "9\n",
      "13\n",
      "17\n",
      "11\n",
      "17\n",
      "5\n",
      "18\n",
      "18\n",
      "9\n",
      "8\n",
      "1\n"
     ]
    }
   ],
   "source": [
    "for element in array.ravel():\n",
    "    print(element)"
   ]
  },
  {
   "cell_type": "markdown",
   "metadata": {},
   "source": [
    "### Mathematical/statistical operations in an array"
   ]
  },
  {
   "cell_type": "code",
   "execution_count": 57,
   "metadata": {},
   "outputs": [
    {
     "data": {
      "text/plain": [
       "array([[ 1, 14,  6, 17],\n",
       "       [ 2, 18, 19,  3],\n",
       "       [ 5,  9, 13, 17],\n",
       "       [11, 17,  5, 18],\n",
       "       [18,  9,  8,  1]])"
      ]
     },
     "execution_count": 57,
     "metadata": {},
     "output_type": "execute_result"
    }
   ],
   "source": [
    "array"
   ]
  },
  {
   "cell_type": "code",
   "execution_count": 48,
   "metadata": {},
   "outputs": [
    {
     "data": {
      "text/plain": [
       "(array([ 9.5 , 10.5 , 11.  , 12.75,  9.  ]),\n",
       " 6.272758563821822,\n",
       " array([ 5., 14.,  8., 17.]))"
      ]
     },
     "execution_count": 48,
     "metadata": {},
     "output_type": "execute_result"
    }
   ],
   "source": [
    "array.mean(),array.std(),np.median(array,axis=0)"
   ]
  },
  {
   "cell_type": "code",
   "execution_count": 50,
   "metadata": {},
   "outputs": [
    {
     "data": {
      "text/plain": [
       "(array([ 7.4, 13.4, 10.2, 11.2]), array([ 9.5 , 10.5 , 11.  , 12.75,  9.  ]))"
      ]
     },
     "execution_count": 50,
     "metadata": {},
     "output_type": "execute_result"
    }
   ],
   "source": [
    "array.mean(axis=0),array.mean(axis=1)"
   ]
  },
  {
   "cell_type": "code",
   "execution_count": 58,
   "metadata": {},
   "outputs": [
    {
     "data": {
      "text/plain": [
       "array([ 1.  , 18.05])"
      ]
     },
     "execution_count": 58,
     "metadata": {},
     "output_type": "execute_result"
    }
   ],
   "source": [
    "np.percentile(array,q=[5,95])"
   ]
  },
  {
   "cell_type": "code",
   "execution_count": 61,
   "metadata": {},
   "outputs": [
    {
     "data": {
      "text/plain": [
       "array([[ 1.        ,  0.09832195,  0.70490738,  0.75951873, -0.8674856 ],\n",
       "       [ 0.09832195,  1.        ,  0.05579284, -0.34992476, -0.12906159],\n",
       "       [ 0.70490738,  0.05579284,  1.        ,  0.19298026, -0.96230317],\n",
       "       [ 0.75951873, -0.34992476,  0.19298026,  1.        , -0.39680665],\n",
       "       [-0.8674856 , -0.12906159, -0.96230317, -0.39680665,  1.        ]])"
      ]
     },
     "execution_count": 61,
     "metadata": {},
     "output_type": "execute_result"
    }
   ],
   "source": [
    "#coerrelation between two features\n",
    "np.corrcoef(array)"
   ]
  },
  {
   "cell_type": "markdown",
   "metadata": {},
   "source": [
    "### Applying functions on an array"
   ]
  },
  {
   "cell_type": "code",
   "execution_count": 62,
   "metadata": {},
   "outputs": [
    {
     "data": {
      "text/plain": [
       "array([ 1,  2,  3,  5,  6,  8,  9, 11, 13, 14, 17, 18, 19])"
      ]
     },
     "execution_count": 62,
     "metadata": {},
     "output_type": "execute_result"
    }
   ],
   "source": [
    "#get unique elements\n",
    "np.unique(array)"
   ]
  },
  {
   "cell_type": "code",
   "execution_count": 66,
   "metadata": {},
   "outputs": [
    {
     "data": {
      "text/plain": [
       "(array([ 1,  2,  3,  5,  6,  8,  9, 11, 13, 14, 17, 18, 19]),\n",
       " array([2, 1, 1, 2, 1, 1, 2, 1, 1, 1, 3, 3, 1], dtype=int64))"
      ]
     },
     "execution_count": 66,
     "metadata": {},
     "output_type": "execute_result"
    }
   ],
   "source": [
    "#element count\n",
    "np.unique(array,return_counts=True)\n",
    "#array unique element and its count in the array"
   ]
  },
  {
   "cell_type": "code",
   "execution_count": 81,
   "metadata": {},
   "outputs": [
    {
     "data": {
      "text/plain": [
       "array([[ 1., 14.,  6., 17.],\n",
       "       [ 2., 18., 19.,  3.],\n",
       "       [ 5.,  9., 13., 17.],\n",
       "       [11., 17.,  5., 18.],\n",
       "       [18.,  9.,  8.,  1.]])"
      ]
     },
     "execution_count": 81,
     "metadata": {},
     "output_type": "execute_result"
    }
   ],
   "source": [
    "#change datatype\n",
    "array.astype('float')\n",
    "#np.rint(array) to change from int to float"
   ]
  },
  {
   "cell_type": "code",
   "execution_count": 88,
   "metadata": {},
   "outputs": [
    {
     "data": {
      "text/plain": [
       "array([[11, 24, 16, 27],\n",
       "       [12, 28, 29, 13],\n",
       "       [15, 19, 23, 27],\n",
       "       [21, 27, 15, 28],\n",
       "       [28, 19, 18, 11]])"
      ]
     },
     "execution_count": 88,
     "metadata": {},
     "output_type": "execute_result"
    }
   ],
   "source": [
    "np.apply_along_axis(func,arr=array,axis=0)"
   ]
  },
  {
   "cell_type": "code",
   "execution_count": 7,
   "metadata": {},
   "outputs": [
    {
     "data": {
      "text/plain": [
       "array([[13, 28, 13, 28],\n",
       "       [12, 30, 25, 30],\n",
       "       [30, 25, 12, 20],\n",
       "       [16, 25, 29, 19],\n",
       "       [22, 13, 25, 22]])"
      ]
     },
     "execution_count": 7,
     "metadata": {},
     "output_type": "execute_result"
    }
   ],
   "source": [
    "def func(a):\n",
    "    return a+10\n",
    "\n",
    "v=np.vectorize(func)\n",
    "v(array)\n",
    "#even two arrays can be passed v(array1,array2)"
   ]
  },
  {
   "cell_type": "code",
   "execution_count": 10,
   "metadata": {},
   "outputs": [
    {
     "name": "stdout",
     "output_type": "stream",
     "text": [
      "[13 28 13 28]\n",
      "[12 30 25 30]\n",
      "[30 25 12 20]\n",
      "[16 25 29 19]\n",
      "[22 13 25 22]\n"
     ]
    }
   ],
   "source": [
    "for i in array:\n",
    "    print(func(i))"
   ]
  },
  {
   "cell_type": "code",
   "execution_count": 64,
   "metadata": {},
   "outputs": [
    {
     "data": {
      "text/plain": [
       "array([[False, False, False, False],\n",
       "       [False, False, False, False],\n",
       "       [False, False, False, False],\n",
       "       [False, False, False, False],\n",
       "       [False, False, False, False]])"
      ]
     },
     "execution_count": 64,
     "metadata": {},
     "output_type": "execute_result"
    }
   ],
   "source": [
    "#fetch null value\n",
    "np.isnan(array)"
   ]
  },
  {
   "cell_type": "code",
   "execution_count": 62,
   "metadata": {},
   "outputs": [
    {
     "data": {
      "text/plain": [
       "array([18, 18,  2, 20, 20, 20,  2, 10,  6, 12, 12])"
      ]
     },
     "execution_count": 62,
     "metadata": {},
     "output_type": "execute_result"
    }
   ],
   "source": [
    "#fetch array element that satisfies particular case\n",
    "array[array%2==0]"
   ]
  },
  {
   "cell_type": "markdown",
   "metadata": {},
   "source": [
    "### replace values in the array"
   ]
  },
  {
   "cell_type": "code",
   "execution_count": 64,
   "metadata": {},
   "outputs": [
    {
     "data": {
      "text/plain": [
       "array([[ 3,  0,  3,  0],\n",
       "       [ 0,  0, 15,  0],\n",
       "       [ 0, 15,  0,  0],\n",
       "       [ 0, 15, 19,  9],\n",
       "       [ 0,  3, 15,  0]])"
      ]
     },
     "execution_count": 64,
     "metadata": {},
     "output_type": "execute_result"
    }
   ],
   "source": [
    "array[array%2==0]=0\n",
    "array"
   ]
  },
  {
   "cell_type": "code",
   "execution_count": 65,
   "metadata": {},
   "outputs": [
    {
     "data": {
      "text/plain": [
       "array([[ 3, -1,  3, -1],\n",
       "       [-1, -1, 15, -1],\n",
       "       [-1, 15, -1, -1],\n",
       "       [-1, 15, 19,  9],\n",
       "       [-1,  3, 15, -1]])"
      ]
     },
     "execution_count": 65,
     "metadata": {},
     "output_type": "execute_result"
    }
   ],
   "source": [
    "np.where(array==0,-1,array)"
   ]
  },
  {
   "cell_type": "raw",
   "metadata": {},
   "source": [
    "swap,join,merge,concat,update particular value"
   ]
  },
  {
   "cell_type": "code",
   "execution_count": 12,
   "metadata": {},
   "outputs": [
    {
     "data": {
      "text/plain": [
       "array([[20, 15,  2, 10],\n",
       "       [ 3, 18,  3, 18],\n",
       "       [ 2, 20, 15, 20],\n",
       "       [ 6, 15, 19,  9]])"
      ]
     },
     "execution_count": 12,
     "metadata": {},
     "output_type": "execute_result"
    }
   ],
   "source": [
    "#swap row:\n",
    "array[[2,0,1,3],:]"
   ]
  },
  {
   "cell_type": "code",
   "execution_count": 25,
   "metadata": {},
   "outputs": [
    {
     "data": {
      "text/plain": [
       "array([[ 3,  3, 18, 18],\n",
       "       [15,  2, 20, 20],\n",
       "       [ 2, 20, 15, 10],\n",
       "       [19,  6, 15,  9],\n",
       "       [15, 12,  3, 12]])"
      ]
     },
     "execution_count": 25,
     "metadata": {},
     "output_type": "execute_result"
    }
   ],
   "source": [
    "#swap row:\n",
    "array[:,[2,0,1,3]]"
   ]
  },
  {
   "cell_type": "code",
   "execution_count": 26,
   "metadata": {},
   "outputs": [
    {
     "data": {
      "text/plain": [
       "array([[ 3, 18, 18,  3],\n",
       "       [15, 20, 20,  2],\n",
       "       [ 2, 10, 15, 20],\n",
       "       [19,  9, 15,  6],\n",
       "       [15, 12,  3, 12]])"
      ]
     },
     "execution_count": 26,
     "metadata": {},
     "output_type": "execute_result"
    }
   ],
   "source": [
    "#swap column\n",
    "array[:,[2,3,1,0]]"
   ]
  },
  {
   "cell_type": "code",
   "execution_count": 35,
   "metadata": {},
   "outputs": [
    {
     "data": {
      "text/plain": [
       "array([[ 3, 18,  3, 18,  3, 18,  3, 18],\n",
       "       [ 2, 20, 15, 20,  2, 20, 15, 20],\n",
       "       [20, 15,  2, 10, 20, 15,  2, 10],\n",
       "       [ 6, 15, 19,  9,  6, 15, 19,  9],\n",
       "       [12,  3, 15, 12, 12,  3, 15, 12]])"
      ]
     },
     "execution_count": 35,
     "metadata": {},
     "output_type": "execute_result"
    }
   ],
   "source": [
    "#join 2 array\n",
    "np.concatenate((array,array),axis=1)"
   ]
  },
  {
   "cell_type": "code",
   "execution_count": 36,
   "metadata": {},
   "outputs": [
    {
     "data": {
      "text/plain": [
       "array([[ 3, 18,  3, 18],\n",
       "       [ 2, 20, 15, 20],\n",
       "       [20, 15,  2, 10],\n",
       "       [ 6, 15, 19,  9],\n",
       "       [12,  3, 15, 12],\n",
       "       [ 3, 18,  3, 18],\n",
       "       [ 2, 20, 15, 20],\n",
       "       [20, 15,  2, 10],\n",
       "       [ 6, 15, 19,  9],\n",
       "       [12,  3, 15, 12]])"
      ]
     },
     "execution_count": 36,
     "metadata": {},
     "output_type": "execute_result"
    }
   ],
   "source": [
    "np.concatenate((array,array),axis=0)"
   ]
  },
  {
   "cell_type": "code",
   "execution_count": 40,
   "metadata": {},
   "outputs": [
    {
     "data": {
      "text/plain": [
       "array([[ 3, 18,  3, 18,  3, 18,  3, 18],\n",
       "       [ 2, 20, 15, 20,  2, 20, 15, 20],\n",
       "       [20, 15,  2, 10, 20, 15,  2, 10],\n",
       "       [ 6, 15, 19,  9,  6, 15, 19,  9],\n",
       "       [12,  3, 15, 12, 12,  3, 15, 12]])"
      ]
     },
     "execution_count": 40,
     "metadata": {},
     "output_type": "execute_result"
    }
   ],
   "source": [
    "np.hstack((array,array))"
   ]
  },
  {
   "cell_type": "code",
   "execution_count": 41,
   "metadata": {},
   "outputs": [
    {
     "data": {
      "text/plain": [
       "array([[ 3, 18,  3, 18],\n",
       "       [ 2, 20, 15, 20],\n",
       "       [20, 15,  2, 10],\n",
       "       [ 6, 15, 19,  9],\n",
       "       [12,  3, 15, 12],\n",
       "       [ 3, 18,  3, 18],\n",
       "       [ 2, 20, 15, 20],\n",
       "       [20, 15,  2, 10],\n",
       "       [ 6, 15, 19,  9],\n",
       "       [12,  3, 15, 12]])"
      ]
     },
     "execution_count": 41,
     "metadata": {},
     "output_type": "execute_result"
    }
   ],
   "source": [
    "np.vstack((array,array))"
   ]
  },
  {
   "cell_type": "code",
   "execution_count": 28,
   "metadata": {},
   "outputs": [
    {
     "data": {
      "text/plain": [
       "[array([[ 3, 18,  3, 18]]),\n",
       " array([[ 2, 20, 15, 20]]),\n",
       " array([[20, 15,  2, 10]]),\n",
       " array([[ 6, 15, 19,  9]]),\n",
       " array([[12,  3, 15, 12]])]"
      ]
     },
     "execution_count": 28,
     "metadata": {},
     "output_type": "execute_result"
    }
   ],
   "source": [
    "np.split(array,5) #array.T to split column wise"
   ]
  },
  {
   "cell_type": "code",
   "execution_count": 43,
   "metadata": {},
   "outputs": [
    {
     "data": {
      "text/plain": [
       "array([[ 3, 18,  3, 18],\n",
       "       [ 6, 15, 19,  9],\n",
       "       [12,  3, 15, 12]])"
      ]
     },
     "execution_count": 43,
     "metadata": {},
     "output_type": "execute_result"
    }
   ],
   "source": [
    "#delete row/column\n",
    "np.delete(array,[2,1],axis=0)"
   ]
  },
  {
   "cell_type": "code",
   "execution_count": 44,
   "metadata": {},
   "outputs": [
    {
     "data": {
      "text/plain": [
       "array([[ 3, 18],\n",
       "       [ 2, 20],\n",
       "       [20, 10],\n",
       "       [ 6,  9],\n",
       "       [12, 12]])"
      ]
     },
     "execution_count": 44,
     "metadata": {},
     "output_type": "execute_result"
    }
   ],
   "source": [
    "np.delete(array,[2,1],axis=1)"
   ]
  },
  {
   "cell_type": "code",
   "execution_count": 45,
   "metadata": {},
   "outputs": [
    {
     "data": {
      "text/plain": [
       "array([[ 3, 18,  3, 18],\n",
       "       [ 1,  2,  3,  4],\n",
       "       [ 2, 20, 15, 20],\n",
       "       [20, 15,  2, 10],\n",
       "       [ 6, 15, 19,  9],\n",
       "       [12,  3, 15, 12]])"
      ]
     },
     "execution_count": 45,
     "metadata": {},
     "output_type": "execute_result"
    }
   ],
   "source": [
    "#insert a row into array\n",
    "np.insert(array,[1],[1,2,3,4],axis=0)"
   ]
  },
  {
   "cell_type": "code",
   "execution_count": 57,
   "metadata": {},
   "outputs": [
    {
     "data": {
      "text/plain": [
       "array([[ 3, 18,  3,  2, 18],\n",
       "       [ 2, 20, 15,  3, 20],\n",
       "       [20, 15,  2,  4, 10],\n",
       "       [ 6, 15, 19,  5,  9],\n",
       "       [12,  3, 15,  6, 12]])"
      ]
     },
     "execution_count": 57,
     "metadata": {},
     "output_type": "execute_result"
    }
   ],
   "source": [
    "#insert a column into an array\n",
    "np.insert(array,[3],np.array([2,3,4,5,6]).reshape(-1,1),axis=1)"
   ]
  },
  {
   "cell_type": "markdown",
   "metadata": {},
   "source": [
    "### Operation on two arrays"
   ]
  },
  {
   "cell_type": "code",
   "execution_count": 59,
   "metadata": {},
   "outputs": [
    {
     "data": {
      "text/plain": [
       "(array([2], dtype=int64),)"
      ]
     },
     "execution_count": 59,
     "metadata": {},
     "output_type": "execute_result"
    }
   ],
   "source": [
    "array1=np.array([1,2,4,5,6,7])\n",
    "array2=np.array([6,5,4,3,2,2])\n",
    "np.where(array1==array2)"
   ]
  },
  {
   "cell_type": "code",
   "execution_count": 61,
   "metadata": {},
   "outputs": [
    {
     "data": {
      "text/plain": [
       "array([4])"
      ]
     },
     "execution_count": 61,
     "metadata": {},
     "output_type": "execute_result"
    }
   ],
   "source": [
    "array1[np.where(array1==array2)]"
   ]
  },
  {
   "cell_type": "code",
   "execution_count": 75,
   "metadata": {},
   "outputs": [
    {
     "data": {
      "text/plain": [
       "array([2, 4, 5, 6])"
      ]
     },
     "execution_count": 75,
     "metadata": {},
     "output_type": "execute_result"
    }
   ],
   "source": [
    "#common elements in an arrays\n",
    "np.intersect1d(array1,array2)"
   ]
  },
  {
   "cell_type": "code",
   "execution_count": 76,
   "metadata": {},
   "outputs": [
    {
     "data": {
      "text/plain": [
       "array([1, 7])"
      ]
     },
     "execution_count": 76,
     "metadata": {},
     "output_type": "execute_result"
    }
   ],
   "source": [
    "#uncommom elements in the arrays\n",
    "np.setdiff1d(array1,array2)"
   ]
  },
  {
   "cell_type": "markdown",
   "metadata": {},
   "source": [
    "### Print output options tuning"
   ]
  },
  {
   "cell_type": "code",
   "execution_count": 96,
   "metadata": {},
   "outputs": [
    {
     "data": {
      "text/plain": [
       "array([ 1,  3,  5, ..., 95, 97, 99])"
      ]
     },
     "execution_count": 96,
     "metadata": {},
     "output_type": "execute_result"
    }
   ],
   "source": [
    "np.set_printoptions(threshold=30,precision=13,suppress=False)\n",
    "np.arange(1,100,2)"
   ]
  },
  {
   "cell_type": "code",
   "execution_count": 92,
   "metadata": {},
   "outputs": [
    {
     "name": "stdout",
     "output_type": "stream",
     "text": [
      "Help on function set_printoptions in module numpy:\n",
      "\n",
      "set_printoptions(precision=None, threshold=None, edgeitems=None, linewidth=None, suppress=None, nanstr=None, infstr=None, formatter=None, sign=None, floatmode=None, **kwarg)\n",
      "    Set printing options.\n",
      "    \n",
      "    These options determine the way floating point numbers, arrays and\n",
      "    other NumPy objects are displayed.\n",
      "    \n",
      "    Parameters\n",
      "    ----------\n",
      "    precision : int or None, optional\n",
      "        Number of digits of precision for floating point output (default 8).\n",
      "        May be None if `floatmode` is not `fixed`, to print as many digits as\n",
      "        necessary to uniquely specify the value.\n",
      "    threshold : int, optional\n",
      "        Total number of array elements which trigger summarization\n",
      "        rather than full repr (default 1000).\n",
      "        To always use the full repr without summarization, pass `sys.maxsize`.\n",
      "    edgeitems : int, optional\n",
      "        Number of array items in summary at beginning and end of\n",
      "        each dimension (default 3).\n",
      "    linewidth : int, optional\n",
      "        The number of characters per line for the purpose of inserting\n",
      "        line breaks (default 75).\n",
      "    suppress : bool, optional\n",
      "        If True, always print floating point numbers using fixed point\n",
      "        notation, in which case numbers equal to zero in the current precision\n",
      "        will print as zero.  If False, then scientific notation is used when\n",
      "        absolute value of the smallest number is < 1e-4 or the ratio of the\n",
      "        maximum absolute value to the minimum is > 1e3. The default is False.\n",
      "    nanstr : str, optional\n",
      "        String representation of floating point not-a-number (default nan).\n",
      "    infstr : str, optional\n",
      "        String representation of floating point infinity (default inf).\n",
      "    sign : string, either '-', '+', or ' ', optional\n",
      "        Controls printing of the sign of floating-point types. If '+', always\n",
      "        print the sign of positive values. If ' ', always prints a space\n",
      "        (whitespace character) in the sign position of positive values.  If\n",
      "        '-', omit the sign character of positive values. (default '-')\n",
      "    formatter : dict of callables, optional\n",
      "        If not None, the keys should indicate the type(s) that the respective\n",
      "        formatting function applies to.  Callables should return a string.\n",
      "        Types that are not specified (by their corresponding keys) are handled\n",
      "        by the default formatters.  Individual types for which a formatter\n",
      "        can be set are:\n",
      "    \n",
      "        - 'bool'\n",
      "        - 'int'\n",
      "        - 'timedelta' : a `numpy.timedelta64`\n",
      "        - 'datetime' : a `numpy.datetime64`\n",
      "        - 'float'\n",
      "        - 'longfloat' : 128-bit floats\n",
      "        - 'complexfloat'\n",
      "        - 'longcomplexfloat' : composed of two 128-bit floats\n",
      "        - 'numpystr' : types `numpy.string_` and `numpy.unicode_`\n",
      "        - 'object' : `np.object_` arrays\n",
      "        - 'str' : all other strings\n",
      "    \n",
      "        Other keys that can be used to set a group of types at once are:\n",
      "    \n",
      "        - 'all' : sets all types\n",
      "        - 'int_kind' : sets 'int'\n",
      "        - 'float_kind' : sets 'float' and 'longfloat'\n",
      "        - 'complex_kind' : sets 'complexfloat' and 'longcomplexfloat'\n",
      "        - 'str_kind' : sets 'str' and 'numpystr'\n",
      "    floatmode : str, optional\n",
      "        Controls the interpretation of the `precision` option for\n",
      "        floating-point types. Can take the following values\n",
      "        (default maxprec_equal):\n",
      "    \n",
      "        * 'fixed': Always print exactly `precision` fractional digits,\n",
      "                even if this would print more or fewer digits than\n",
      "                necessary to specify the value uniquely.\n",
      "        * 'unique': Print the minimum number of fractional digits necessary\n",
      "                to represent each value uniquely. Different elements may\n",
      "                have a different number of digits. The value of the\n",
      "                `precision` option is ignored.\n",
      "        * 'maxprec': Print at most `precision` fractional digits, but if\n",
      "                an element can be uniquely represented with fewer digits\n",
      "                only print it with that many.\n",
      "        * 'maxprec_equal': Print at most `precision` fractional digits,\n",
      "                but if every element in the array can be uniquely\n",
      "                represented with an equal number of fewer digits, use that\n",
      "                many digits for all elements.\n",
      "    legacy : string or `False`, optional\n",
      "        If set to the string `'1.13'` enables 1.13 legacy printing mode. This\n",
      "        approximates numpy 1.13 print output by including a space in the sign\n",
      "        position of floats and different behavior for 0d arrays. If set to\n",
      "        `False`, disables legacy mode. Unrecognized strings will be ignored\n",
      "        with a warning for forward compatibility.\n",
      "    \n",
      "        .. versionadded:: 1.14.0\n",
      "    \n",
      "    See Also\n",
      "    --------\n",
      "    get_printoptions, printoptions, set_string_function, array2string\n",
      "    \n",
      "    Notes\n",
      "    -----\n",
      "    `formatter` is always reset with a call to `set_printoptions`.\n",
      "    \n",
      "    Use `printoptions` as a context manager to set the values temporarily.\n",
      "    \n",
      "    Examples\n",
      "    --------\n",
      "    Floating point precision can be set:\n",
      "    \n",
      "    >>> np.set_printoptions(precision=4)\n",
      "    >>> np.array([1.123456789])\n",
      "    [1.1235]\n",
      "    \n",
      "    Long arrays can be summarised:\n",
      "    \n",
      "    >>> np.set_printoptions(threshold=5)\n",
      "    >>> np.arange(10)\n",
      "    array([0, 1, 2, ..., 7, 8, 9])\n",
      "    \n",
      "    Small results can be suppressed:\n",
      "    \n",
      "    >>> eps = np.finfo(float).eps\n",
      "    >>> x = np.arange(4.)\n",
      "    >>> x**2 - (x + eps)**2\n",
      "    array([-4.9304e-32, -4.4409e-16,  0.0000e+00,  0.0000e+00])\n",
      "    >>> np.set_printoptions(suppress=True)\n",
      "    >>> x**2 - (x + eps)**2\n",
      "    array([-0., -0.,  0.,  0.])\n",
      "    \n",
      "    A custom formatter can be used to display array elements as desired:\n",
      "    \n",
      "    >>> np.set_printoptions(formatter={'all':lambda x: 'int: '+str(-x)})\n",
      "    >>> x = np.arange(3)\n",
      "    >>> x\n",
      "    array([int: 0, int: -1, int: -2])\n",
      "    >>> np.set_printoptions()  # formatter gets reset\n",
      "    >>> x\n",
      "    array([0, 1, 2])\n",
      "    \n",
      "    To put back the default options, you can use:\n",
      "    \n",
      "    >>> np.set_printoptions(edgeitems=3, infstr='inf',\n",
      "    ... linewidth=75, nanstr='nan', precision=8,\n",
      "    ... suppress=False, threshold=1000, formatter=None)\n",
      "    \n",
      "    Also to temporarily override options, use `printoptions` as a context manager:\n",
      "    \n",
      "    >>> with np.printoptions(precision=2, suppress=True, threshold=5):\n",
      "    ...     np.linspace(0, 10, 10)\n",
      "    array([ 0.  ,  1.11,  2.22, ...,  7.78,  8.89, 10.  ])\n",
      "\n"
     ]
    }
   ],
   "source": [
    "help(np.set_printoptions)"
   ]
  }
 ],
 "metadata": {
  "kernelspec": {
   "display_name": "Python 3",
   "language": "python",
   "name": "python3"
  },
  "language_info": {
   "codemirror_mode": {
    "name": "ipython",
    "version": 3
   },
   "file_extension": ".py",
   "mimetype": "text/x-python",
   "name": "python",
   "nbconvert_exporter": "python",
   "pygments_lexer": "ipython3",
   "version": "3.7.0"
  }
 },
 "nbformat": 4,
 "nbformat_minor": 4
}
