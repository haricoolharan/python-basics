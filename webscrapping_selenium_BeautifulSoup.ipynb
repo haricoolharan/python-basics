{
 "cells": [
  {
   "cell_type": "code",
   "execution_count": 34,
   "id": "23e4ff7b",
   "metadata": {},
   "outputs": [],
   "source": [
    "from bs4 import BeautifulSoup\n",
    "import requests\n",
    "from selenium import webdriver\n",
    "from selenium.webdriver.common.by import By\n",
    "import time as t"
   ]
  },
  {
   "cell_type": "code",
   "execution_count": 66,
   "id": "c50ef62c",
   "metadata": {},
   "outputs": [],
   "source": [
    "website='https://www.moneycontrol.com/india/stockpricequote/steel-large/steelauthorityindia/SAI'\n",
    "driver = webdriver.Firefox()\n",
    "driver.get(website)\n",
    "driver.find_element_by_xpath('//*[@id=\"standalone\"]/div[2]/div[2]/div/ul/li[8]/a').click()\n",
    "for handle in driver.window_handles:\n",
    "    if handle != website:\n",
    "        ratiopage = handle\n",
    "driver.switch_to.window(ratiopage)\n",
    "t.sleep(3)\n",
    "driver.find_element_by_xpath('//*[@id=\"#standalone\"]').click()\n",
    "r=driver.page_source\n",
    "driver.quit()"
   ]
  },
  {
   "cell_type": "code",
   "execution_count": 67,
   "id": "30011ff0",
   "metadata": {},
   "outputs": [
    {
     "name": "stdout",
     "output_type": "stream",
     "text": [
      "Net Profit Margin (%)\n",
      "3.27\n"
     ]
    }
   ],
   "source": [
    "soup=BeautifulSoup(r,'lxml')\n",
    "data=soup.findAll('td')\n",
    "for i in data:\n",
    "    if i.text=='Net Profit Margin (%)':\n",
    "        print(i.text)\n",
    "        print(i.find_next_sibling(\"td\").text)"
   ]
  }
 ],
 "metadata": {
  "kernelspec": {
   "display_name": "Python 3",
   "language": "python",
   "name": "python3"
  },
  "language_info": {
   "codemirror_mode": {
    "name": "ipython",
    "version": 3
   },
   "file_extension": ".py",
   "mimetype": "text/x-python",
   "name": "python",
   "nbconvert_exporter": "python",
   "pygments_lexer": "ipython3",
   "version": "3.7.10"
  }
 },
 "nbformat": 4,
 "nbformat_minor": 5
}
